{
 "cells": [
  {
   "cell_type": "code",
   "execution_count": null,
   "metadata": {},
   "outputs": [],
   "source": [
    "'''\n",
    "Author: Graham MacGregor (Graham.macgregor@gov.bc.ca) \n",
    "-Created from some examples on the web\n",
    "Date: April 2021\n",
    "Purpose: To Update a AGOL feature service with a feature layer from a filegeodatabase\n",
    "Python Version: 3\n",
    "Assumptions:\n",
    "-Editable ArcGIS account\n",
    "-Update of service is exact same data schema otherwise applications linked to it will break\n",
    "\n",
    "History:\n",
    "\n",
    "'''"
   ]
  },
  {
   "cell_type": "code",
   "execution_count": null,
   "metadata": {},
   "outputs": [],
   "source": [
    "#Import python libraries\n",
    "import arcpy, os, time\n",
    "from zipfile import ZipFile\n",
    "from arcgis.gis import GIS"
   ]
  },
  {
   "cell_type": "code",
   "execution_count": null,
   "metadata": {},
   "outputs": [],
   "source": [
    "#Set overwrite and clock to track time\n",
    "arcpy.env.overwriteOutput = True\n",
    "startTime = time.clock()"
   ]
  },
  {
   "cell_type": "code",
   "execution_count": null,
   "metadata": {},
   "outputs": [],
   "source": [
    "# Variables. \n",
    "username = \"GSMACGRE.BC\"                                    # AGOL Username\n",
    "password = \"******\"                                         # AGOL Password\n",
    "fc = r\"W:\\FOR\\RSI\\DQU\\Projects\\2021\\Minor_Projects\\hackathon\\data\\MLIGA.gdb\\MLIGA_POLY\"  #Feature class in filegeodatabase                           # Path to Feature Class\n",
    "fsItemId = \"2868935c37f94a6ab5ab5c7c0213b2d4\" #Feature Service Item ID"
   ]
  },
  {
   "cell_type": "code",
   "execution_count": null,
   "metadata": {},
   "outputs": [],
   "source": [
    "#Log in with your credentials\n",
    "gis = GIS(\"https://www.arcgis.com\", username, password) # Log into ArcGIS"
   ]
  },
  {
   "cell_type": "code",
   "execution_count": null,
   "metadata": {},
   "outputs": [],
   "source": [
    "# Function to Zip FGDB. Used to zip temporary filegeodatabase that will be used to update feature service\n",
    "def zipDir(dirPath, zipPath):\n",
    "    zipf = ZipFile(zipPath , mode='w')\n",
    "    gdb = os.path.basename(dirPath)\n",
    "    for root, _ , files in os.walk(dirPath):\n",
    "        for file in files:\n",
    "            if 'lock' not in file:\n",
    "               filePath = os.path.join(root, file)\n",
    "               zipf.write(filePath , os.path.join(gdb, file))\n",
    "    zipf.close()"
   ]
  },
  {
   "cell_type": "code",
   "execution_count": null,
   "metadata": {},
   "outputs": [],
   "source": [
    "#Create a temporary filegeodatabase for zipping up fc feature\n",
    "print(\"Creating temporary File Geodatabase\")\n",
    "arcpy.CreateFileGDB_management(arcpy.env.scratchFolder, \"TempGDB\")"
   ]
  },
  {
   "cell_type": "code",
   "execution_count": null,
   "metadata": {},
   "outputs": [],
   "source": [
    "# Export feature classes to the temporary File Geodatabase\n",
    "fcName = os.path.basename(fc)\n",
    "fcName = fcName.split('.')[-1]\n",
    "print(\"Exporting {0} to TempGDB\".format(fcName))\n",
    "arcpy.conversion.FeatureClassToFeatureClass(fc, os.path.join(arcpy.env.scratchFolder, \"TempGDB.gdb\"), fcName)"
   ]
  },
  {
   "cell_type": "code",
   "execution_count": null,
   "metadata": {},
   "outputs": [],
   "source": [
    "# Zip temp FGDB\n",
    "print(\"Zipping TempGDB\")\n",
    "zipDir(os.path.join(arcpy.env.scratchFolder, \"TempGDB.gdb\"), os.path.join(arcpy.env.scratchFolder, \"TempGDB.gdb.zip\"))"
   ]
  },
  {
   "cell_type": "code",
   "execution_count": null,
   "metadata": {},
   "outputs": [],
   "source": [
    "# Check if FGDB exists in the AGOL users environment, if True, delete item\n",
    "searchResults = gis.content.search('title:TempGDB AND owner:{0}'.format(username), item_type='File Geodatabase')\n",
    "if len(searchResults) > 0:\n",
    "    item = searchResults[0]\n",
    "    item.delete()"
   ]
  },
  {
   "cell_type": "code",
   "execution_count": null,
   "metadata": {},
   "outputs": [],
   "source": [
    "# Upload zipped File Geodatabase with set properties\n",
    "print(\"Uploading File Geodatabase\")\n",
    "fgd_properties={'title':'tempGDB', 'tags':'temp file geodatabase', 'type':'File Geodatabase'}\n",
    "fgd_item = gis.content.add(item_properties=fgd_properties, data=os.path.join(arcpy.env.scratchFolder, \"TempGDB.gdb.zip\"))"
   ]
  },
  {
   "cell_type": "code",
   "execution_count": null,
   "metadata": {},
   "outputs": [],
   "source": [
    "# Truncate Feature Service\n",
    "print(\"Truncating Feature Service\")\n",
    "premiseLayer = gis.content.get(fsItemId)\n",
    "fLyr = premiseLayer.layers[0]\n",
    "fLyr.manager.truncate()\n",
    "\n",
    "# Append features from feature class in zipped file geodatabase\n",
    "print(\"Appending features\")\n",
    "fLyr.append(item_id=fgd_item.id, upload_format=\"filegdb\", upsert=False, field_mappings=[])\n",
    "\n",
    "# Delete Uploaded File Geodatabase\n",
    "print(\"Deleting uploaded File Geodatabase\")\n",
    "fgd_item.delete()"
   ]
  },
  {
   "cell_type": "code",
   "execution_count": null,
   "metadata": {},
   "outputs": [],
   "source": [
    "# Delete temporary File Geodatabase and zip file\n",
    "print(\"Deleting temporary FGD and zip file\")\n",
    "arcpy.Delete_management(os.path.join(arcpy.env.scratchFolder, \"TempGDB.gdb\"))\n",
    "os.remove(os.path.join(arcpy.env.scratchFolder, \"TempGDB.gdb.zip\"))\n",
    "\n",
    "#the time it took to run the script\n",
    "endTime = time.clock()\n",
    "elapsedTime = round((endTime - startTime) / 60, 2)\n",
    "print(\"Script finished in {0} minutes\".format(elapsedTime))"
   ]
  },
  {
   "cell_type": "code",
   "execution_count": null,
   "metadata": {},
   "outputs": [],
   "source": []
  }
 ],
 "metadata": {
  "kernelspec": {
   "display_name": "Python 3",
   "language": "python",
   "name": "python3"
  },
  "language_info": {
   "codemirror_mode": {
    "name": "ipython",
    "version": 3
   },
   "file_extension": ".py",
   "mimetype": "text/x-python",
   "name": "python",
   "nbconvert_exporter": "python",
   "pygments_lexer": "ipython3",
   "version": "3.6.10"
  }
 },
 "nbformat": 4,
 "nbformat_minor": 2
}
