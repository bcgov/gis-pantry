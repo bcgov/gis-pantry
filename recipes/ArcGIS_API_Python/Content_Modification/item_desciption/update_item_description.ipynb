{
 "cells": [
  {
   "cell_type": "markdown",
   "source": [
    "# Background\r\n",
    "This notebook provides an example of the use of ArcGIS Python API to modify description of content. "
   ],
   "metadata": {}
  },
  {
   "cell_type": "markdown",
   "source": [
    "## Description\r\n",
    "In this context means any information visible on the item details page for a piece of content:\r\n",
    "\r\n",
    "![ArcGIS Online Item Overview Page](Item_Overview_Page.png \"Item Overview Page\")\r\n",
    "\r\n",
    "\r\n",
    "## JSON Representation\r\n",
    "\r\n",
    "\r\n",
    "Behind the scenes, the same data is represented as a dictionary/hash table - a set of \"key\":\"value\" pairs. \r\n",
    "E.g. \"id\": \"f222dcb54c414f31891cda153088aee7\" below:\r\n",
    " \r\n",
    "![ArcGIS Online Item Description JSON](Item_Description_Page.png \"Item Description JSON\")"
   ],
   "metadata": {}
  },
  {
   "cell_type": "markdown",
   "source": [
    "Lines below provide a practical example of appending IDIR (and enabling delete protection) for each piece of content owned by a user, by iterating through items and accessing the [\"tags\"] key of each item:"
   ],
   "metadata": {}
  },
  {
   "cell_type": "code",
   "execution_count": 1,
   "source": [
    "from arcgis import GIS"
   ],
   "outputs": [],
   "metadata": {}
  },
  {
   "cell_type": "code",
   "execution_count": 2,
   "source": [
    "#your AGO username\r\n",
    "username=\"rrydvans.bc\"\r\n",
    "#idir that you want to append to tags\r\n",
    "idir=\"rrydvans\""
   ],
   "outputs": [],
   "metadata": {}
  },
  {
   "cell_type": "code",
   "execution_count": 5,
   "source": [
    "#create the GIS object - this lets us access the ArcGIS Online Portal\r\n",
    "gis = GIS('https://governmentofbc.maps.arcgis.com/',username.upper())"
   ],
   "outputs": [],
   "metadata": {}
  },
  {
   "cell_type": "code",
   "execution_count": 6,
   "source": [
    "#grab content belonging to the user\r\n",
    "your_content=gis.content.search(f'owner:{username}',max_items=9999)"
   ],
   "outputs": [],
   "metadata": {}
  },
  {
   "cell_type": "code",
   "execution_count": 7,
   "source": [
    "#to add the idir tag:\r\n",
    "for item in your_content:\r\n",
    "    if not idir in item['tags']:\r\n",
    "        item['tags'].append(idir)\r\n",
    "        item.update(item_properties = {\"tags\":\",\".join(item['tags'])})"
   ],
   "outputs": [],
   "metadata": {}
  },
  {
   "cell_type": "code",
   "execution_count": 8,
   "source": [
    "#to enable delete protection:\r\n",
    "for item in your_content:\r\n",
    "    item.protect(True)"
   ],
   "outputs": [],
   "metadata": {}
  },
  {
   "cell_type": "code",
   "execution_count": 9,
   "source": [
    "#check that updating of the tags worked\r\n",
    "for item in your_content:\r\n",
    "    print(item['title'],\"\\n tags:\",item['tags'])"
   ],
   "outputs": [
    {
     "output_type": "stream",
     "name": "stdout",
     "text": [
      "boundary_AU_WSH \n",
      " tags: ['test', 'delete', 'rrydvans']\n",
      "TEST DELETE FWCP_Watersheds \n",
      " tags: ['TEST', 'DELETE', 'rrydvans', 'test']\n",
      "boundary_AU_WSH \n",
      " tags: ['test', 'delete', 'rrydvans']\n",
      "TEST DELETE FWCP_Watersheds \n",
      " tags: ['TEST', 'DELETE', 'rrydvans', 'test']\n"
     ]
    }
   ],
   "metadata": {}
  },
  {
   "cell_type": "code",
   "execution_count": null,
   "source": [
    "#to remove a tag:\r\n",
    "# this section can be ignored if no problems with above\r\n",
    "\r\n",
    "remove_tag=\"rrydvans\"\r\n",
    "for item in your_content:\r\n",
    "    if remove_tag in item['tags']:\r\n",
    "        item['tags'].remove(remove_tag)\r\n",
    "        item.update(item_properties = {\"tags\":\",\".join(item['tags'])})"
   ],
   "outputs": [],
   "metadata": {}
  },
  {
   "cell_type": "markdown",
   "source": [],
   "metadata": {}
  }
 ],
 "metadata": {
  "orig_nbformat": 4,
  "language_info": {
   "name": "python",
   "version": "3.8.10",
   "mimetype": "text/x-python",
   "codemirror_mode": {
    "name": "ipython",
    "version": 3
   },
   "pygments_lexer": "ipython3",
   "nbconvert_exporter": "python",
   "file_extension": ".py"
  },
  "kernelspec": {
   "name": "python3",
   "display_name": "Python 3.8.10 64-bit ('arcgis_env': conda)"
  },
  "interpreter": {
   "hash": "2c9075f432384532162d7a456d2e3a9e7f08b325e8366430cdf94d82dd0b9dbb"
  }
 },
 "nbformat": 4,
 "nbformat_minor": 2
}