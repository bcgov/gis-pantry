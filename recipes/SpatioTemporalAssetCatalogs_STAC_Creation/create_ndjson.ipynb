{
 "cells": [
  {
   "cell_type": "code",
   "execution_count": null,
   "metadata": {},
   "outputs": [],
   "source": [
    "import json\n",
    "import os\n"
   ]
  },
  {
   "cell_type": "code",
   "execution_count": null,
   "metadata": {},
   "outputs": [],
   "source": [
    "\n",
    "input_directory = \"/stac/output/jsons/\"\n",
    "output_directory = \"/output/ndjsons/\"\n"
   ]
  },
  {
   "cell_type": "code",
   "execution_count": null,
   "metadata": {},
   "outputs": [],
   "source": [
    "\n",
    "def create_ndjson(file_path, data):\n",
    "    with open(file_path, 'w') as f:\n",
    "        for item in data:\n",
    "            f.write(json.dumps(item) + '\\n')\n",
    "\n",
    "\n",
    "def find_json_files(directory):\n",
    "    collections = []\n",
    "    catalogs = []\n",
    "    items = []\n",
    "\n",
    "    for root, dirs, files in os.walk(directory):\n",
    "        for file in files:\n",
    "            if file.endswith('.json'):\n",
    "                file_path = os.path.join(root, file)\n",
    "\n",
    "                # Categorize JSON files\n",
    "                if \"collection\" in file:\n",
    "                    collections.append(file_path)\n",
    "                elif \"catalog\" in file:\n",
    "                    catalogs.append(file_path)\n",
    "                else:\n",
    "                    items.append(file_path)  \n",
    "\n",
    "    return collections, catalogs, items\n",
    "\n",
    "\n",
    "def read_json_files(file_list):\n",
    "    data = []\n",
    "    for file_path in file_list:\n",
    "        with open(file_path, 'r') as f:\n",
    "            try:\n",
    "                content = json.load(f)\n",
    "                if isinstance(content, list):\n",
    "                    data.extend(content)\n",
    "                else:\n",
    "                    data.append(content)\n",
    "            except json.JSONDecodeError:\n",
    "                print(f\"Skipping invalid JSON file: {file_path}\")\n",
    "    return data\n",
    "\n",
    "def main(input_directory, output_directory):\n",
    "\n",
    "    collections, catalogs, items = find_json_files(input_directory)\n",
    "\n",
    " \n",
    "    collections_data = read_json_files(collections)\n",
    "    catalogs_data = read_json_files(catalogs)\n",
    "    items_data = read_json_files(items)\n",
    "\n",
    "\n",
    "    create_ndjson(os.path.join(output_directory, \"collections.ndjson\"), collections_data)\n",
    "    create_ndjson(os.path.join(output_directory, \"catalogs.ndjson\"), catalogs_data)\n",
    "    create_ndjson(os.path.join(output_directory, \"items.ndjson\"), items_data)\n",
    "    \n",
    "    print(\"NDJSON files created:\")\n",
    "    print(f\" - Collections: {len(collections_data)} entries\")\n",
    "    print(f\" - Catalogs: {len(catalogs_data)} entries\")\n",
    "    print(f\" - Items: {len(items_data)} entries\")"
   ]
  },
  {
   "cell_type": "code",
   "execution_count": null,
   "metadata": {},
   "outputs": [],
   "source": [
    "\n",
    "main(input_directory, output_directory)"
   ]
  }
 ],
 "metadata": {
  "kernelspec": {
   "display_name": "stac_tools",
   "language": "python",
   "name": "python3"
  },
  "language_info": {
   "codemirror_mode": {
    "name": "ipython",
    "version": 3
   },
   "file_extension": ".py",
   "mimetype": "text/x-python",
   "name": "python",
   "nbconvert_exporter": "python",
   "pygments_lexer": "ipython3",
   "version": "3.10.16"
  }
 },
 "nbformat": 4,
 "nbformat_minor": 2
}
